{
 "cells": [
  {
   "cell_type": "code",
   "execution_count": 1,
   "metadata": {},
   "outputs": [
    {
     "name": "stdout",
     "output_type": "stream",
     "text": [
      "0.9.0\n"
     ]
    }
   ],
   "source": [
    "import subprocess\n",
    "import pandas as pd\n",
    "import re\n",
    "import json\n",
    "import seaborn as sns \n",
    "print(sns.__version__) # should be 0.9\n",
    "\n",
    "import matplotlib.pyplot as plt\n",
    "sns.set(style=\"whitegrid\")\n"
   ]
  },
  {
   "cell_type": "code",
   "execution_count": 9,
   "metadata": {},
   "outputs": [
    {
     "data": {
      "text/plain": [
       "CompletedProcess(args=['./compile.sh'], returncode=0)"
      ]
     },
     "execution_count": 9,
     "metadata": {},
     "output_type": "execute_result"
    }
   ],
   "source": [
    "# Compile files\n",
    "subprocess.run([\"chmod\", \"+x\" \"compile.sh\"])\n",
    "subprocess.run([\"./compile.sh\"])\n"
   ]
  },
  {
   "cell_type": "code",
   "execution_count": 13,
   "metadata": {
    "scrolled": true
   },
   "outputs": [
    {
     "name": "stdout",
     "output_type": "stream",
     "text": [
      "CompletedProcess(args=['java', '-jar', 'testrun.jar', '-evaluation=BentCigarFunction', '-seed=1', '-submission=player50'], returncode=127, stdout=b'') None b'' 256\n",
      "\n"
     ]
    }
   ],
   "source": [
    "import os\n",
    "\n",
    "cwd = os.getcwd()\n",
    "path_var = cwd.split(\"/src\")[0]\n",
    "# line3 = \"export LD_LIBRARY_PATH=~{}\".format(cwd.split(\"/src\")[0])\n",
    "\n",
    "function = \"BentCigarFunction\"\n",
    "# function = \"SphereEvaluation\"\n",
    "result = subprocess.run(['java', '-jar', 'testrun.jar', '-evaluation={}'.format(function), '-seed=1', '-submission=player50'], stdout=subprocess.PIPE, shell=True, env={\"PATH\": path_var})\n",
    "output = result.stdout.decode('utf-8')\n",
    "# r = os.system(\"java -jar testrun.jar -submission=player50 -evaluation=BentCigarFunction -seed=1 > tmp_o.txt\")\n",
    "print(result, result.stderr, result.stdout, r)\n",
    "print(output)\n",
    "\n",
    "df = pd.DataFrame()\n",
    "matches = re.finditer('{ .+}', output)\n",
    "for m in matches:\n",
    "    json_str = m[0]\n",
    "    obj = pd.read_json(json_str, orient='column', typ='series')\n",
    "    df = df.append(obj, ignore_index=True)    \n",
    "    "
   ]
  },
  {
   "cell_type": "code",
   "execution_count": 4,
   "metadata": {
    "scrolled": false
   },
   "outputs": [
    {
     "data": {
      "text/html": [
       "<div>\n",
       "<style scoped>\n",
       "    .dataframe tbody tr th:only-of-type {\n",
       "        vertical-align: middle;\n",
       "    }\n",
       "\n",
       "    .dataframe tbody tr th {\n",
       "        vertical-align: top;\n",
       "    }\n",
       "\n",
       "    .dataframe thead th {\n",
       "        text-align: right;\n",
       "    }\n",
       "</style>\n",
       "<table border=\"1\" class=\"dataframe\">\n",
       "  <thead>\n",
       "    <tr style=\"text-align: right;\">\n",
       "      <th></th>\n",
       "    </tr>\n",
       "  </thead>\n",
       "  <tbody>\n",
       "  </tbody>\n",
       "</table>\n",
       "</div>"
      ],
      "text/plain": [
       "Empty DataFrame\n",
       "Columns: []\n",
       "Index: []"
      ]
     },
     "execution_count": 4,
     "metadata": {},
     "output_type": "execute_result"
    }
   ],
   "source": [
    "df"
   ]
  },
  {
   "cell_type": "code",
   "execution_count": 5,
   "metadata": {
    "scrolled": false
   },
   "outputs": [],
   "source": [
    "for col in df:\n",
    "    print(col)\n",
    "    if col != 'stdevGenomes':\n",
    "        plt.figure(figsize=(10, 5))\n",
    "        sns.scatterplot(y=df[col], x=range(len(df[col])))\n",
    "\n",
    "    plt.show()\n",
    "\n"
   ]
  },
  {
   "cell_type": "code",
   "execution_count": 6,
   "metadata": {
    "scrolled": false
   },
   "outputs": [],
   "source": [
    "# sns.pairplot(df)\n",
    "\n",
    "# plt.show()"
   ]
  }
 ],
 "metadata": {
  "kernelspec": {
   "display_name": "Python 3",
   "language": "python",
   "name": "python3"
  },
  "language_info": {
   "codemirror_mode": {
    "name": "ipython",
    "version": 3
   },
   "file_extension": ".py",
   "mimetype": "text/x-python",
   "name": "python",
   "nbconvert_exporter": "python",
   "pygments_lexer": "ipython3",
   "version": "3.6.4"
  }
 },
 "nbformat": 4,
 "nbformat_minor": 2
}
